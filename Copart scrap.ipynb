{
 "cells": [
  {
   "cell_type": "markdown",
   "metadata": {},
   "source": [
    "Importing libraries"
   ]
  },
  {
   "cell_type": "code",
   "execution_count": 1,
   "metadata": {},
   "outputs": [],
   "source": [
    "#import ssl\n",
    "#ssl._create_default_https_context = ssl._create_unverified_context"
   ]
  },
  {
   "cell_type": "code",
   "execution_count": 16,
   "metadata": {},
   "outputs": [],
   "source": [
    "import requests\n",
    "import bs4\n",
    "import pandas as pd"
   ]
  },
  {
   "cell_type": "markdown",
   "metadata": {},
   "source": [
    "Get the HMTL text from the homepage."
   ]
  },
  {
   "cell_type": "code",
   "execution_count": 17,
   "metadata": {},
   "outputs": [],
   "source": [
    "page_number = 70004"
   ]
  },
  {
   "cell_type": "code",
   "execution_count": 18,
   "metadata": {},
   "outputs": [],
   "source": [
    "url = \"https://bids-history.com/lot/\" + str(page_number) + \"/\""
   ]
  },
  {
   "cell_type": "code",
   "execution_count": 19,
   "metadata": {},
   "outputs": [
    {
     "name": "stderr",
     "output_type": "stream",
     "text": [
      "C:\\Users\\szyme\\Anaconda3\\lib\\site-packages\\urllib3\\connectionpool.py:847: InsecureRequestWarning: Unverified HTTPS request is being made. Adding certificate verification is strongly advised. See: https://urllib3.readthedocs.io/en/latest/advanced-usage.html#ssl-warnings\n",
      "  InsecureRequestWarning)\n"
     ]
    }
   ],
   "source": [
    "res = requests.get(url,verify = False)"
   ]
  },
  {
   "cell_type": "markdown",
   "metadata": {},
   "source": [
    "Geting some text"
   ]
  },
  {
   "cell_type": "code",
   "execution_count": 20,
   "metadata": {},
   "outputs": [],
   "source": [
    "soup = bs4.BeautifulSoup(res.text,'lxml')"
   ]
  },
  {
   "cell_type": "code",
   "execution_count": 21,
   "metadata": {},
   "outputs": [
    {
     "data": {
      "text/plain": [
       "bs4.BeautifulSoup"
      ]
     },
     "execution_count": 21,
     "metadata": {},
     "output_type": "execute_result"
    }
   ],
   "source": [
    "type(soup)"
   ]
  },
  {
   "cell_type": "markdown",
   "metadata": {},
   "source": [
    "Analizing extracted text"
   ]
  },
  {
   "cell_type": "code",
   "execution_count": 22,
   "metadata": {},
   "outputs": [],
   "source": [
    "#soup"
   ]
  },
  {
   "cell_type": "raw",
   "metadata": {},
   "source": [
    "Final_bid and Currency"
   ]
  },
  {
   "cell_type": "markdown",
   "metadata": {},
   "source": [
    "Creating 2 list with lot information and car features"
   ]
  },
  {
   "cell_type": "code",
   "execution_count": 23,
   "metadata": {
    "scrolled": true
   },
   "outputs": [],
   "source": [
    "items = 0 \n",
    "Lot_info_key = []\n",
    "Lot_info_val = []\n",
    "for item in soup.select(\".col-6\"):\n",
    "    item = item.text\n",
    "    item = item.replace(\"\\n\", \"\") # Formating word\n",
    "    if items % 2 == 0:\n",
    "        Lot_info_key.append(item)\n",
    "        items += 1\n",
    "    else:\n",
    "        Lot_info_val.append(item)\n",
    "        items += 1"
   ]
  },
  {
   "cell_type": "markdown",
   "metadata": {},
   "source": [
    "Converting prevuiously created list to dictionary"
   ]
  },
  {
   "cell_type": "code",
   "execution_count": 24,
   "metadata": {},
   "outputs": [],
   "source": [
    "dictionary = dict(zip(Lot_info_key, Lot_info_val))"
   ]
  },
  {
   "cell_type": "code",
   "execution_count": 25,
   "metadata": {},
   "outputs": [
    {
     "data": {
      "text/plain": [
       "{'Doc Type:': 'NM - CERT OF TITLE-SALVAGE',\n",
       " 'Odometer:': '39,423 mi',\n",
       " 'Highlights:': 'Engine Start Program',\n",
       " 'Primary Damage:': 'FRONT END',\n",
       " 'Secondary Damage:': 'SIDE',\n",
       " 'Estimated Repair Cost:': '$0 USD',\n",
       " 'Estimated Retail Value:': '$14,524 USD',\n",
       " 'VIN:': 'JF2SJABC1FH******',\n",
       " 'Auction Date:': 'July 2, 2018, 7 p.m.',\n",
       " 'Body Style:': '4DR SPOR',\n",
       " 'Engine Type:': '2.5L 4',\n",
       " 'Cylinders:': '4',\n",
       " 'Transmission:': 'AUTOMATIC',\n",
       " 'Drive:': 'All wheel drive',\n",
       " 'Fuel:': 'GAS'}"
      ]
     },
     "execution_count": 25,
     "metadata": {},
     "output_type": "execute_result"
    }
   ],
   "source": [
    "dictionary"
   ]
  },
  {
   "cell_type": "markdown",
   "metadata": {},
   "source": [
    "Information about money amounts require additional formatting to be used later in regresion. Function to convert those amounts to correct format:"
   ]
  },
  {
   "cell_type": "code",
   "execution_count": 26,
   "metadata": {},
   "outputs": [],
   "source": [
    "def test(i):\n",
    "    page_number = 70000\n",
    "    stop = 70000 + i\n",
    "    lista = []\n",
    "    while page_number < stop:\n",
    "        url = \"https://bids-history.com/lot/\" + str(page_number) + \"/\"\n",
    "        res = requests.get(url,verify = False)\n",
    "        soup = bs4.BeautifulSoup(res.text,'lxml')\n",
    "        items = 0 \n",
    "        Lot_info_key = []\n",
    "        Lot_info_val = []\n",
    "        for item in soup.select(\".col-6\"):\n",
    "            item = item.text\n",
    "            item = item.replace(\"\\n\", \"\") # Formating word\n",
    "            if items % 2 == 0:\n",
    "                Lot_info_key.append(item)\n",
    "                items += 1\n",
    "            else:\n",
    "                Lot_info_val.append(item)\n",
    "                items += 1\n",
    "        dictionary = dict(zip(Lot_info_key, Lot_info_val))\n",
    "        dictionary['page'] = url\n",
    "        page_number = page_number + 1 \n",
    "        lista.append(dictionary)\n",
    "    \n",
    "    \n",
    "    return pd.DataFrame.from_dict(lista,orient='columns')\n",
    "\n",
    "    "
   ]
  },
  {
   "cell_type": "code",
   "execution_count": 27,
   "metadata": {},
   "outputs": [
    {
     "name": "stderr",
     "output_type": "stream",
     "text": [
      "C:\\Users\\szyme\\Anaconda3\\lib\\site-packages\\urllib3\\connectionpool.py:847: InsecureRequestWarning: Unverified HTTPS request is being made. Adding certificate verification is strongly advised. See: https://urllib3.readthedocs.io/en/latest/advanced-usage.html#ssl-warnings\n",
      "  InsecureRequestWarning)\n",
      "C:\\Users\\szyme\\Anaconda3\\lib\\site-packages\\urllib3\\connectionpool.py:847: InsecureRequestWarning: Unverified HTTPS request is being made. Adding certificate verification is strongly advised. See: https://urllib3.readthedocs.io/en/latest/advanced-usage.html#ssl-warnings\n",
      "  InsecureRequestWarning)\n",
      "C:\\Users\\szyme\\Anaconda3\\lib\\site-packages\\urllib3\\connectionpool.py:847: InsecureRequestWarning: Unverified HTTPS request is being made. Adding certificate verification is strongly advised. See: https://urllib3.readthedocs.io/en/latest/advanced-usage.html#ssl-warnings\n",
      "  InsecureRequestWarning)\n",
      "C:\\Users\\szyme\\Anaconda3\\lib\\site-packages\\urllib3\\connectionpool.py:847: InsecureRequestWarning: Unverified HTTPS request is being made. Adding certificate verification is strongly advised. See: https://urllib3.readthedocs.io/en/latest/advanced-usage.html#ssl-warnings\n",
      "  InsecureRequestWarning)\n",
      "C:\\Users\\szyme\\Anaconda3\\lib\\site-packages\\urllib3\\connectionpool.py:847: InsecureRequestWarning: Unverified HTTPS request is being made. Adding certificate verification is strongly advised. See: https://urllib3.readthedocs.io/en/latest/advanced-usage.html#ssl-warnings\n",
      "  InsecureRequestWarning)\n",
      "C:\\Users\\szyme\\Anaconda3\\lib\\site-packages\\urllib3\\connectionpool.py:847: InsecureRequestWarning: Unverified HTTPS request is being made. Adding certificate verification is strongly advised. See: https://urllib3.readthedocs.io/en/latest/advanced-usage.html#ssl-warnings\n",
      "  InsecureRequestWarning)\n",
      "C:\\Users\\szyme\\Anaconda3\\lib\\site-packages\\urllib3\\connectionpool.py:847: InsecureRequestWarning: Unverified HTTPS request is being made. Adding certificate verification is strongly advised. See: https://urllib3.readthedocs.io/en/latest/advanced-usage.html#ssl-warnings\n",
      "  InsecureRequestWarning)\n",
      "C:\\Users\\szyme\\Anaconda3\\lib\\site-packages\\urllib3\\connectionpool.py:847: InsecureRequestWarning: Unverified HTTPS request is being made. Adding certificate verification is strongly advised. See: https://urllib3.readthedocs.io/en/latest/advanced-usage.html#ssl-warnings\n",
      "  InsecureRequestWarning)\n",
      "C:\\Users\\szyme\\Anaconda3\\lib\\site-packages\\urllib3\\connectionpool.py:847: InsecureRequestWarning: Unverified HTTPS request is being made. Adding certificate verification is strongly advised. See: https://urllib3.readthedocs.io/en/latest/advanced-usage.html#ssl-warnings\n",
      "  InsecureRequestWarning)\n",
      "C:\\Users\\szyme\\Anaconda3\\lib\\site-packages\\urllib3\\connectionpool.py:847: InsecureRequestWarning: Unverified HTTPS request is being made. Adding certificate verification is strongly advised. See: https://urllib3.readthedocs.io/en/latest/advanced-usage.html#ssl-warnings\n",
      "  InsecureRequestWarning)\n"
     ]
    },
    {
     "data": {
      "text/html": [
       "<div>\n",
       "<style scoped>\n",
       "    .dataframe tbody tr th:only-of-type {\n",
       "        vertical-align: middle;\n",
       "    }\n",
       "\n",
       "    .dataframe tbody tr th {\n",
       "        vertical-align: top;\n",
       "    }\n",
       "\n",
       "    .dataframe thead th {\n",
       "        text-align: right;\n",
       "    }\n",
       "</style>\n",
       "<table border=\"1\" class=\"dataframe\">\n",
       "  <thead>\n",
       "    <tr style=\"text-align: right;\">\n",
       "      <th></th>\n",
       "      <th>Final bid:</th>\n",
       "      <th>Doc Type:</th>\n",
       "      <th>Odometer:</th>\n",
       "      <th>Highlights:</th>\n",
       "      <th>Primary Damage:</th>\n",
       "      <th>Secondary Damage:</th>\n",
       "      <th>Estimated Repair Cost:</th>\n",
       "      <th>Estimated Retail Value:</th>\n",
       "      <th>VIN:</th>\n",
       "      <th>Auction Date:</th>\n",
       "      <th>Body Style:</th>\n",
       "      <th>Engine Type:</th>\n",
       "      <th>Cylinders:</th>\n",
       "      <th>Transmission:</th>\n",
       "      <th>Drive:</th>\n",
       "      <th>Fuel:</th>\n",
       "      <th>page</th>\n",
       "    </tr>\n",
       "  </thead>\n",
       "  <tbody>\n",
       "    <tr>\n",
       "      <td>0</td>\n",
       "      <td>$1,000 USD</td>\n",
       "      <td>MN - CERTIFICATE OF TITLE</td>\n",
       "      <td>167,526 mi</td>\n",
       "      <td>Runs And Drives</td>\n",
       "      <td>VANDALISM</td>\n",
       "      <td></td>\n",
       "      <td>$0 USD</td>\n",
       "      <td>$5,365 USD</td>\n",
       "      <td>WBAVD13566K******</td>\n",
       "      <td>Sept. 4, 2018, 6 p.m.</td>\n",
       "      <td>SEDAN 4D</td>\n",
       "      <td>3.0L 6</td>\n",
       "      <td>6</td>\n",
       "      <td>AUTOMATIC</td>\n",
       "      <td>All wheel drive</td>\n",
       "      <td>GAS</td>\n",
       "      <td>https://bids-history.com/lot/70000/</td>\n",
       "    </tr>\n",
       "    <tr>\n",
       "      <td>1</td>\n",
       "      <td>$2,150 USD</td>\n",
       "      <td>NC - SALVAGE CERTIFICATE OF TITLE</td>\n",
       "      <td>29,700 mi</td>\n",
       "      <td>Runs And Drives</td>\n",
       "      <td>ROLLOVER</td>\n",
       "      <td></td>\n",
       "      <td>$0 USD</td>\n",
       "      <td>$11,372 USD</td>\n",
       "      <td>KNAFZ4A84F5******</td>\n",
       "      <td>Oct. 3, 2018, 3 p.m.</td>\n",
       "      <td>SEDAN 4D</td>\n",
       "      <td>2.0L 4</td>\n",
       "      <td>4</td>\n",
       "      <td>AUTOMATIC</td>\n",
       "      <td>Front-wheel Drive</td>\n",
       "      <td>GAS</td>\n",
       "      <td>https://bids-history.com/lot/70001/</td>\n",
       "    </tr>\n",
       "    <tr>\n",
       "      <td>2</td>\n",
       "      <td>$0 USD</td>\n",
       "      <td>IL - SALVAGE CERTIFICATE</td>\n",
       "      <td>0 mi</td>\n",
       "      <td>Runs And Drives</td>\n",
       "      <td>FRONT END</td>\n",
       "      <td>MINOR DENT/SCRATCHES</td>\n",
       "      <td>$0 USD</td>\n",
       "      <td>$2,624 USD</td>\n",
       "      <td>1G8ZH5280WZ******</td>\n",
       "      <td>July 5, 2018, 6 p.m.</td>\n",
       "      <td>SEDAN 4D</td>\n",
       "      <td>1.9L 4</td>\n",
       "      <td>4</td>\n",
       "      <td>AUTOMATIC</td>\n",
       "      <td>Front-wheel Drive</td>\n",
       "      <td>GAS</td>\n",
       "      <td>https://bids-history.com/lot/70002/</td>\n",
       "    </tr>\n",
       "    <tr>\n",
       "      <td>3</td>\n",
       "      <td>$0 USD</td>\n",
       "      <td>MD - CERTIFICATE OF TITLE</td>\n",
       "      <td>0 mi</td>\n",
       "      <td>Runs And Drives</td>\n",
       "      <td>NORMAL WEAR</td>\n",
       "      <td></td>\n",
       "      <td>$0 USD</td>\n",
       "      <td>$0 USD</td>\n",
       "      <td>1G6KE57Y15U******</td>\n",
       "      <td>July 3, 2018, 3 p.m.</td>\n",
       "      <td>SEDAN 4D</td>\n",
       "      <td>4.6L 8</td>\n",
       "      <td>8</td>\n",
       "      <td>AUTOMATIC</td>\n",
       "      <td>Front-wheel Drive</td>\n",
       "      <td>GAS</td>\n",
       "      <td>https://bids-history.com/lot/70003/</td>\n",
       "    </tr>\n",
       "    <tr>\n",
       "      <td>4</td>\n",
       "      <td>NaN</td>\n",
       "      <td>NM - CERT OF TITLE-SALVAGE</td>\n",
       "      <td>39,423 mi</td>\n",
       "      <td>Engine Start Program</td>\n",
       "      <td>FRONT END</td>\n",
       "      <td>SIDE</td>\n",
       "      <td>$0 USD</td>\n",
       "      <td>$14,524 USD</td>\n",
       "      <td>JF2SJABC1FH******</td>\n",
       "      <td>July 2, 2018, 7 p.m.</td>\n",
       "      <td>4DR SPOR</td>\n",
       "      <td>2.5L 4</td>\n",
       "      <td>4</td>\n",
       "      <td>AUTOMATIC</td>\n",
       "      <td>All wheel drive</td>\n",
       "      <td>GAS</td>\n",
       "      <td>https://bids-history.com/lot/70004/</td>\n",
       "    </tr>\n",
       "    <tr>\n",
       "      <td>5</td>\n",
       "      <td>$0 USD</td>\n",
       "      <td>CT - BILL OF SALE-SALVAGE</td>\n",
       "      <td>30 mi</td>\n",
       "      <td>Enhanced Vehicles</td>\n",
       "      <td>FRONT END</td>\n",
       "      <td>MINOR DENT/SCRATCHES</td>\n",
       "      <td>$0 USD</td>\n",
       "      <td>$8,642 USD</td>\n",
       "      <td>5SAAM46A2H7******</td>\n",
       "      <td>July 3, 2018, 3 p.m.</td>\n",
       "      <td></td>\n",
       "      <td>1</td>\n",
       "      <td>1</td>\n",
       "      <td>AUTOMATIC</td>\n",
       "      <td></td>\n",
       "      <td>GAS</td>\n",
       "      <td>https://bids-history.com/lot/70005/</td>\n",
       "    </tr>\n",
       "    <tr>\n",
       "      <td>6</td>\n",
       "      <td>$350 USD</td>\n",
       "      <td>TX - SALVAGE VEHICLE TITLE</td>\n",
       "      <td>0 mi</td>\n",
       "      <td>Enhanced Vehicles</td>\n",
       "      <td>FRONT END</td>\n",
       "      <td>MINOR DENT/SCRATCHES</td>\n",
       "      <td>$0 USD</td>\n",
       "      <td>$8,143 USD</td>\n",
       "      <td>KMHGC46E09U******</td>\n",
       "      <td>July 5, 2018, 6 p.m.</td>\n",
       "      <td>SEDAN 4D</td>\n",
       "      <td>3.8L 6</td>\n",
       "      <td>6</td>\n",
       "      <td>AUTOMATIC</td>\n",
       "      <td>Rear-wheel drive</td>\n",
       "      <td>GAS</td>\n",
       "      <td>https://bids-history.com/lot/70006/</td>\n",
       "    </tr>\n",
       "    <tr>\n",
       "      <td>7</td>\n",
       "      <td>NaN</td>\n",
       "      <td>NJ - CERTIFICATE OF TITLE</td>\n",
       "      <td>196,297 mi</td>\n",
       "      <td>Runs And Drives</td>\n",
       "      <td>MINOR DENT/SCRATCHES</td>\n",
       "      <td></td>\n",
       "      <td>$0 USD</td>\n",
       "      <td>$0 USD</td>\n",
       "      <td>JTHBF30G120******</td>\n",
       "      <td>July 2, 2018, 3 p.m.</td>\n",
       "      <td>SEDAN 4D</td>\n",
       "      <td>3.0L 6</td>\n",
       "      <td>6</td>\n",
       "      <td>AUTOMATIC</td>\n",
       "      <td>Front-wheel Drive</td>\n",
       "      <td>GAS</td>\n",
       "      <td>https://bids-history.com/lot/70007/</td>\n",
       "    </tr>\n",
       "    <tr>\n",
       "      <td>8</td>\n",
       "      <td>$0 USD</td>\n",
       "      <td>GA - CERT OF TITLE-SALVAGE</td>\n",
       "      <td>128,827 mi</td>\n",
       "      <td>Enhanced Vehicles</td>\n",
       "      <td>FRONT END</td>\n",
       "      <td></td>\n",
       "      <td>$0 USD</td>\n",
       "      <td>$6,417 USD</td>\n",
       "      <td>1N4AL2AP4CN******</td>\n",
       "      <td>July 3, 2018, 3 p.m.</td>\n",
       "      <td>SEDAN 4D</td>\n",
       "      <td>2.5L 4</td>\n",
       "      <td>4</td>\n",
       "      <td>AUTOMATIC</td>\n",
       "      <td>Front-wheel Drive</td>\n",
       "      <td>GAS</td>\n",
       "      <td>https://bids-history.com/lot/70008/</td>\n",
       "    </tr>\n",
       "    <tr>\n",
       "      <td>9</td>\n",
       "      <td>$90 USD</td>\n",
       "      <td>MA - CERTIFICATE OF TITLE</td>\n",
       "      <td>0 mi</td>\n",
       "      <td>Enhanced Vehicles</td>\n",
       "      <td>STRIPPED</td>\n",
       "      <td>BIOHAZARD/CHEMICAL</td>\n",
       "      <td>$0 USD</td>\n",
       "      <td>$0 USD</td>\n",
       "      <td>XVA23923M78******</td>\n",
       "      <td>July 25, 2018, 3 p.m.</td>\n",
       "      <td></td>\n",
       "      <td></td>\n",
       "      <td>0</td>\n",
       "      <td></td>\n",
       "      <td></td>\n",
       "      <td></td>\n",
       "      <td>https://bids-history.com/lot/70009/</td>\n",
       "    </tr>\n",
       "  </tbody>\n",
       "</table>\n",
       "</div>"
      ],
      "text/plain": [
       "   Final bid:                          Doc Type:   Odometer:  \\\n",
       "0  $1,000 USD          MN - CERTIFICATE OF TITLE  167,526 mi   \n",
       "1  $2,150 USD  NC - SALVAGE CERTIFICATE OF TITLE   29,700 mi   \n",
       "2      $0 USD           IL - SALVAGE CERTIFICATE        0 mi   \n",
       "3      $0 USD          MD - CERTIFICATE OF TITLE        0 mi   \n",
       "4         NaN         NM - CERT OF TITLE-SALVAGE   39,423 mi   \n",
       "5      $0 USD          CT - BILL OF SALE-SALVAGE       30 mi   \n",
       "6    $350 USD         TX - SALVAGE VEHICLE TITLE        0 mi   \n",
       "7         NaN          NJ - CERTIFICATE OF TITLE  196,297 mi   \n",
       "8      $0 USD         GA - CERT OF TITLE-SALVAGE  128,827 mi   \n",
       "9     $90 USD          MA - CERTIFICATE OF TITLE        0 mi   \n",
       "\n",
       "            Highlights:       Primary Damage:     Secondary Damage:  \\\n",
       "0       Runs And Drives             VANDALISM                         \n",
       "1       Runs And Drives              ROLLOVER                         \n",
       "2       Runs And Drives             FRONT END  MINOR DENT/SCRATCHES   \n",
       "3       Runs And Drives           NORMAL WEAR                         \n",
       "4  Engine Start Program             FRONT END                  SIDE   \n",
       "5     Enhanced Vehicles             FRONT END  MINOR DENT/SCRATCHES   \n",
       "6     Enhanced Vehicles             FRONT END  MINOR DENT/SCRATCHES   \n",
       "7       Runs And Drives  MINOR DENT/SCRATCHES                         \n",
       "8     Enhanced Vehicles             FRONT END                         \n",
       "9     Enhanced Vehicles              STRIPPED    BIOHAZARD/CHEMICAL   \n",
       "\n",
       "  Estimated Repair Cost: Estimated Retail Value:               VIN:  \\\n",
       "0                 $0 USD              $5,365 USD  WBAVD13566K******   \n",
       "1                 $0 USD             $11,372 USD  KNAFZ4A84F5******   \n",
       "2                 $0 USD              $2,624 USD  1G8ZH5280WZ******   \n",
       "3                 $0 USD                  $0 USD  1G6KE57Y15U******   \n",
       "4                 $0 USD             $14,524 USD  JF2SJABC1FH******   \n",
       "5                 $0 USD              $8,642 USD  5SAAM46A2H7******   \n",
       "6                 $0 USD              $8,143 USD  KMHGC46E09U******   \n",
       "7                 $0 USD                  $0 USD  JTHBF30G120******   \n",
       "8                 $0 USD              $6,417 USD  1N4AL2AP4CN******   \n",
       "9                 $0 USD                  $0 USD  XVA23923M78******   \n",
       "\n",
       "           Auction Date: Body Style: Engine Type: Cylinders: Transmission:  \\\n",
       "0  Sept. 4, 2018, 6 p.m.    SEDAN 4D       3.0L 6          6     AUTOMATIC   \n",
       "1   Oct. 3, 2018, 3 p.m.    SEDAN 4D       2.0L 4          4     AUTOMATIC   \n",
       "2   July 5, 2018, 6 p.m.    SEDAN 4D       1.9L 4          4     AUTOMATIC   \n",
       "3   July 3, 2018, 3 p.m.    SEDAN 4D       4.6L 8          8     AUTOMATIC   \n",
       "4   July 2, 2018, 7 p.m.    4DR SPOR       2.5L 4          4     AUTOMATIC   \n",
       "5   July 3, 2018, 3 p.m.                        1          1     AUTOMATIC   \n",
       "6   July 5, 2018, 6 p.m.    SEDAN 4D       3.8L 6          6     AUTOMATIC   \n",
       "7   July 2, 2018, 3 p.m.    SEDAN 4D       3.0L 6          6     AUTOMATIC   \n",
       "8   July 3, 2018, 3 p.m.    SEDAN 4D       2.5L 4          4     AUTOMATIC   \n",
       "9  July 25, 2018, 3 p.m.                                   0                 \n",
       "\n",
       "              Drive: Fuel:                                 page  \n",
       "0    All wheel drive   GAS  https://bids-history.com/lot/70000/  \n",
       "1  Front-wheel Drive   GAS  https://bids-history.com/lot/70001/  \n",
       "2  Front-wheel Drive   GAS  https://bids-history.com/lot/70002/  \n",
       "3  Front-wheel Drive   GAS  https://bids-history.com/lot/70003/  \n",
       "4    All wheel drive   GAS  https://bids-history.com/lot/70004/  \n",
       "5                      GAS  https://bids-history.com/lot/70005/  \n",
       "6   Rear-wheel drive   GAS  https://bids-history.com/lot/70006/  \n",
       "7  Front-wheel Drive   GAS  https://bids-history.com/lot/70007/  \n",
       "8  Front-wheel Drive   GAS  https://bids-history.com/lot/70008/  \n",
       "9                           https://bids-history.com/lot/70009/  "
      ]
     },
     "execution_count": 27,
     "metadata": {},
     "output_type": "execute_result"
    }
   ],
   "source": [
    "test(10)"
   ]
  },
  {
   "cell_type": "code",
   "execution_count": 13,
   "metadata": {},
   "outputs": [
    {
     "ename": "KeyError",
     "evalue": "'Final bid:'",
     "output_type": "error",
     "traceback": [
      "\u001b[1;31m---------------------------------------------------------------------------\u001b[0m",
      "\u001b[1;31mKeyError\u001b[0m                                  Traceback (most recent call last)",
      "\u001b[1;32m<ipython-input-13-c8f148f18b18>\u001b[0m in \u001b[0;36m<module>\u001b[1;34m\u001b[0m\n\u001b[0;32m      9\u001b[0m     \u001b[1;32melse\u001b[0m\u001b[1;33m:\u001b[0m\u001b[1;33m\u001b[0m\u001b[1;33m\u001b[0m\u001b[0m\n\u001b[0;32m     10\u001b[0m         \u001b[0mdictionary\u001b[0m\u001b[1;33m[\u001b[0m\u001b[1;34m'Currency'\u001b[0m\u001b[1;33m]\u001b[0m \u001b[1;33m=\u001b[0m \u001b[0mamount_and_currency\u001b[0m\u001b[1;33m[\u001b[0m\u001b[1;36m1\u001b[0m\u001b[1;33m]\u001b[0m\u001b[1;33m\u001b[0m\u001b[1;33m\u001b[0m\u001b[0m\n\u001b[1;32m---> 11\u001b[1;33m \u001b[0mconvert_to_num\u001b[0m\u001b[1;33m(\u001b[0m\u001b[1;34m'Final bid:'\u001b[0m\u001b[1;33m)\u001b[0m\u001b[1;33m\u001b[0m\u001b[1;33m\u001b[0m\u001b[0m\n\u001b[0m\u001b[0;32m     12\u001b[0m \u001b[0mconvert_to_num\u001b[0m\u001b[1;33m(\u001b[0m\u001b[1;34m'Estimated Repair Cost:'\u001b[0m\u001b[1;33m)\u001b[0m\u001b[1;33m\u001b[0m\u001b[1;33m\u001b[0m\u001b[0m\n\u001b[0;32m     13\u001b[0m \u001b[0mconvert_to_num\u001b[0m\u001b[1;33m(\u001b[0m\u001b[1;34m'Estimated Retail Value:'\u001b[0m\u001b[1;33m)\u001b[0m\u001b[1;33m\u001b[0m\u001b[1;33m\u001b[0m\u001b[0m\n",
      "\u001b[1;32m<ipython-input-13-c8f148f18b18>\u001b[0m in \u001b[0;36mconvert_to_num\u001b[1;34m(key)\u001b[0m\n\u001b[0;32m      1\u001b[0m \u001b[1;32mdef\u001b[0m \u001b[0mconvert_to_num\u001b[0m\u001b[1;33m(\u001b[0m\u001b[0mkey\u001b[0m\u001b[1;33m)\u001b[0m\u001b[1;33m:\u001b[0m\u001b[1;33m\u001b[0m\u001b[1;33m\u001b[0m\u001b[0m\n\u001b[1;32m----> 2\u001b[1;33m     \u001b[0mamount_and_currency\u001b[0m \u001b[1;33m=\u001b[0m \u001b[0mdictionary\u001b[0m\u001b[1;33m[\u001b[0m\u001b[0mkey\u001b[0m\u001b[1;33m]\u001b[0m\u001b[1;33m.\u001b[0m\u001b[0msplit\u001b[0m\u001b[1;33m(\u001b[0m\u001b[1;34m\" \"\u001b[0m\u001b[1;33m)\u001b[0m\u001b[1;33m\u001b[0m\u001b[1;33m\u001b[0m\u001b[0m\n\u001b[0m\u001b[0;32m      3\u001b[0m     \u001b[0mamount_and_currency\u001b[0m\u001b[1;33m[\u001b[0m\u001b[1;36m0\u001b[0m\u001b[1;33m]\u001b[0m \u001b[1;33m=\u001b[0m \u001b[0mamount_and_currency\u001b[0m\u001b[1;33m[\u001b[0m\u001b[1;36m0\u001b[0m\u001b[1;33m]\u001b[0m\u001b[1;33m[\u001b[0m\u001b[1;36m1\u001b[0m\u001b[1;33m:\u001b[0m\u001b[1;33m]\u001b[0m\u001b[1;33m.\u001b[0m\u001b[0mreplace\u001b[0m\u001b[1;33m(\u001b[0m\u001b[1;34m\",\"\u001b[0m\u001b[1;33m,\u001b[0m \u001b[1;34m\"\"\u001b[0m\u001b[1;33m)\u001b[0m \u001b[1;31m# Formating price\u001b[0m\u001b[1;33m\u001b[0m\u001b[1;33m\u001b[0m\u001b[0m\n\u001b[0;32m      4\u001b[0m     \u001b[0mamount_and_currency\u001b[0m\u001b[1;33m[\u001b[0m\u001b[1;36m0\u001b[0m\u001b[1;33m]\u001b[0m \u001b[1;33m=\u001b[0m \u001b[0mint\u001b[0m\u001b[1;33m(\u001b[0m\u001b[0mamount_and_currency\u001b[0m\u001b[1;33m[\u001b[0m\u001b[1;36m0\u001b[0m\u001b[1;33m]\u001b[0m\u001b[1;33m)\u001b[0m\u001b[1;33m\u001b[0m\u001b[1;33m\u001b[0m\u001b[0m\n\u001b[0;32m      5\u001b[0m     \u001b[0mamount_and_currency\u001b[0m\u001b[1;33m\u001b[0m\u001b[1;33m\u001b[0m\u001b[0m\n",
      "\u001b[1;31mKeyError\u001b[0m: 'Final bid:'"
     ]
    }
   ],
   "source": [
    "def convert_to_num(key):\n",
    "    amount_and_currency = dictionary[key].split(\" \")\n",
    "    amount_and_currency[0] = amount_and_currency[0][1:].replace(\",\", \"\") # Formating price\n",
    "    amount_and_currency[0] = int(amount_and_currency[0])\n",
    "    amount_and_currency\n",
    "    dictionary[key] = amount_and_currency[0]\n",
    "    if 'Currency' in dictionary:\n",
    "        pass\n",
    "    else:\n",
    "        dictionary['Currency'] = amount_and_currency[1]\n",
    "convert_to_num('Final bid:')\n",
    "convert_to_num('Estimated Repair Cost:')\n",
    "convert_to_num('Estimated Retail Value:')"
   ]
  },
  {
   "cell_type": "markdown",
   "metadata": {},
   "source": [
    "Odometer number conversion to KM"
   ]
  },
  {
   "cell_type": "code",
   "execution_count": null,
   "metadata": {},
   "outputs": [],
   "source": [
    "Odometer = dictionary['Odometer:'].split(\" \")\n",
    "Odometer[0] = Odometer[0][1:].replace(\",\", \"\") # Formating amount\n",
    "Odometer[0] = int(Odometer[0]) * 1.60934 # miles to KM\n",
    "dictionary['Odometer in KM:'] = int(Odometer[0]) # odometer in KM\n",
    "del dictionary['Odometer:']"
   ]
  },
  {
   "cell_type": "markdown",
   "metadata": {},
   "source": [
    "Converting non-standard timestamp auction date to date object"
   ]
  },
  {
   "cell_type": "code",
   "execution_count": null,
   "metadata": {},
   "outputs": [],
   "source": [
    "import datetime\n",
    "date_time_str = dictionary['Auction Date:']\n",
    "if date_time_str[3] != '.':\n",
    "    date_time_str = date_time_str.replace(date_time_str[3], \"\")\n",
    "date_time_str = date_time_str.replace(',','')\n",
    "date_time_str = date_time_str.replace('.','')\n",
    "print(date_time_str)\n",
    "date_time_obj = datetime.datetime.strptime(date_time_str.upper(), '%b %w %Y %H %p')\n",
    "dictionary['Auction Date:'] = date_time_obj.date()"
   ]
  },
  {
   "cell_type": "markdown",
   "metadata": {},
   "source": [
    "Converting Engine Type to engie size float number"
   ]
  },
  {
   "cell_type": "code",
   "execution_count": 17,
   "metadata": {},
   "outputs": [],
   "source": [
    "#dictionary['Engine Type:'].find('L')\n",
    "dictionary['Engine Type:'] = float(dictionary['Engine Type:'][0:3])"
   ]
  },
  {
   "cell_type": "markdown",
   "metadata": {},
   "source": [
    "Changing cilinders form str to int"
   ]
  },
  {
   "cell_type": "code",
   "execution_count": 18,
   "metadata": {},
   "outputs": [],
   "source": [
    "dictionary['Cylinders:'] = int(dictionary['Cylinders:'])"
   ]
  },
  {
   "cell_type": "markdown",
   "metadata": {},
   "source": [
    "Adding lot number"
   ]
  },
  {
   "cell_type": "code",
   "execution_count": 19,
   "metadata": {},
   "outputs": [],
   "source": [
    "dictionary['Lot number:'] = int(soup.select(\"td a\")[1].text)"
   ]
  },
  {
   "cell_type": "markdown",
   "metadata": {},
   "source": [
    "Adding web adress"
   ]
  },
  {
   "cell_type": "code",
   "execution_count": 20,
   "metadata": {},
   "outputs": [],
   "source": [
    "dictionary['Web adress'] = str(url)"
   ]
  },
  {
   "cell_type": "markdown",
   "metadata": {},
   "source": [
    "Adding Car year"
   ]
  },
  {
   "cell_type": "code",
   "execution_count": 21,
   "metadata": {},
   "outputs": [],
   "source": [
    "dictionary['Production year'] = soup.select(\"ol li\")[-1].text[0:4]"
   ]
  },
  {
   "cell_type": "markdown",
   "metadata": {},
   "source": [
    "Car Model"
   ]
  },
  {
   "cell_type": "code",
   "execution_count": 22,
   "metadata": {},
   "outputs": [],
   "source": [
    "dictionary['Car Model'] = soup.select(\"ol li\")[-1].text[5:]"
   ]
  },
  {
   "cell_type": "markdown",
   "metadata": {},
   "source": [
    "Separating Location from Doc type"
   ]
  },
  {
   "cell_type": "code",
   "execution_count": 23,
   "metadata": {},
   "outputs": [],
   "source": [
    "dictionary['Location'] = dictionary['Doc Type:'][0:2]\n",
    "dictionary['Doc Type:'] =  dictionary['Doc Type:'][5:] "
   ]
  },
  {
   "cell_type": "markdown",
   "metadata": {},
   "source": [
    "Creating data frame"
   ]
  },
  {
   "cell_type": "code",
   "execution_count": 24,
   "metadata": {
    "scrolled": true
   },
   "outputs": [],
   "source": [
    "df = pd.DataFrame([dictionary],columns=['Lot number:','Car Model', 'Doc Type:','Production year',\n",
    "'Odometer in KM:', 'Final bid:', 'Estimated Repair Cost:', 'Estimated Retail Value:','Highlights:'\n",
    ", 'Primary Damage:', 'Secondary Damage:','Body Style:', 'Engine Type:','Cylinders:', 'Transmission:'\n",
    ", 'Drive:', 'Fuel:','VIN:', 'Auction Date:', 'Currency', 'Location', 'Web adress'\n",
    "])\n",
    "df.set_index('Lot number:',inplace=True)"
   ]
  },
  {
   "cell_type": "code",
   "execution_count": 25,
   "metadata": {},
   "outputs": [
    {
     "data": {
      "text/html": [
       "<div>\n",
       "<style scoped>\n",
       "    .dataframe tbody tr th:only-of-type {\n",
       "        vertical-align: middle;\n",
       "    }\n",
       "\n",
       "    .dataframe tbody tr th {\n",
       "        vertical-align: top;\n",
       "    }\n",
       "\n",
       "    .dataframe thead th {\n",
       "        text-align: right;\n",
       "    }\n",
       "</style>\n",
       "<table border=\"1\" class=\"dataframe\">\n",
       "  <thead>\n",
       "    <tr style=\"text-align: right;\">\n",
       "      <th></th>\n",
       "      <th>Car Model</th>\n",
       "      <th>Doc Type:</th>\n",
       "      <th>Production year</th>\n",
       "      <th>Odometer in KM:</th>\n",
       "      <th>Final bid:</th>\n",
       "      <th>Estimated Repair Cost:</th>\n",
       "      <th>Estimated Retail Value:</th>\n",
       "      <th>Highlights:</th>\n",
       "      <th>Primary Damage:</th>\n",
       "      <th>Secondary Damage:</th>\n",
       "      <th>...</th>\n",
       "      <th>Engine Type:</th>\n",
       "      <th>Cylinders:</th>\n",
       "      <th>Transmission:</th>\n",
       "      <th>Drive:</th>\n",
       "      <th>Fuel:</th>\n",
       "      <th>VIN:</th>\n",
       "      <th>Auction Date:</th>\n",
       "      <th>Currency</th>\n",
       "      <th>Location</th>\n",
       "      <th>Web adress</th>\n",
       "    </tr>\n",
       "    <tr>\n",
       "      <th>Lot number:</th>\n",
       "      <th></th>\n",
       "      <th></th>\n",
       "      <th></th>\n",
       "      <th></th>\n",
       "      <th></th>\n",
       "      <th></th>\n",
       "      <th></th>\n",
       "      <th></th>\n",
       "      <th></th>\n",
       "      <th></th>\n",
       "      <th></th>\n",
       "      <th></th>\n",
       "      <th></th>\n",
       "      <th></th>\n",
       "      <th></th>\n",
       "      <th></th>\n",
       "      <th></th>\n",
       "      <th></th>\n",
       "      <th></th>\n",
       "      <th></th>\n",
       "      <th></th>\n",
       "    </tr>\n",
       "  </thead>\n",
       "  <tbody>\n",
       "    <tr>\n",
       "      <td>38868300</td>\n",
       "      <td>HONDA ACCORD EX</td>\n",
       "      <td>SALVAGE VEHICLE TITLE</td>\n",
       "      <td>2005</td>\n",
       "      <td>72785</td>\n",
       "      <td>575</td>\n",
       "      <td>9828</td>\n",
       "      <td>4303</td>\n",
       "      <td>Engine Start Program</td>\n",
       "      <td>FRONT END</td>\n",
       "      <td>REAR END</td>\n",
       "      <td>...</td>\n",
       "      <td>3.0</td>\n",
       "      <td>6</td>\n",
       "      <td>AUTOMATIC</td>\n",
       "      <td>Front-wheel Drive</td>\n",
       "      <td>GAS</td>\n",
       "      <td>1HGCM66585A******</td>\n",
       "      <td>2020-09-01</td>\n",
       "      <td>USD</td>\n",
       "      <td>TX</td>\n",
       "      <td>https://bids-history.com/lot/4969540/</td>\n",
       "    </tr>\n",
       "  </tbody>\n",
       "</table>\n",
       "<p>1 rows × 21 columns</p>\n",
       "</div>"
      ],
      "text/plain": [
       "                   Car Model              Doc Type: Production year  \\\n",
       "Lot number:                                                           \n",
       "38868300     HONDA ACCORD EX  SALVAGE VEHICLE TITLE            2005   \n",
       "\n",
       "             Odometer in KM:  Final bid:  Estimated Repair Cost:  \\\n",
       "Lot number:                                                        \n",
       "38868300               72785         575                    9828   \n",
       "\n",
       "             Estimated Retail Value:           Highlights: Primary Damage:  \\\n",
       "Lot number:                                                                  \n",
       "38868300                        4303  Engine Start Program       FRONT END   \n",
       "\n",
       "            Secondary Damage:  ... Engine Type:  Cylinders:  Transmission:  \\\n",
       "Lot number:                    ...                                           \n",
       "38868300             REAR END  ...          3.0           6      AUTOMATIC   \n",
       "\n",
       "                        Drive: Fuel:               VIN: Auction Date:  \\\n",
       "Lot number:                                                             \n",
       "38868300     Front-wheel Drive   GAS  1HGCM66585A******    2020-09-01   \n",
       "\n",
       "            Currency Location                             Web adress  \n",
       "Lot number:                                                           \n",
       "38868300         USD       TX  https://bids-history.com/lot/4969540/  \n",
       "\n",
       "[1 rows x 21 columns]"
      ]
     },
     "execution_count": 25,
     "metadata": {},
     "output_type": "execute_result"
    }
   ],
   "source": [
    "df"
   ]
  },
  {
   "cell_type": "code",
   "execution_count": null,
   "metadata": {},
   "outputs": [],
   "source": []
  }
 ],
 "metadata": {
  "kernelspec": {
   "display_name": "Python 3",
   "language": "python",
   "name": "python3"
  },
  "language_info": {
   "codemirror_mode": {
    "name": "ipython",
    "version": 3
   },
   "file_extension": ".py",
   "mimetype": "text/x-python",
   "name": "python",
   "nbconvert_exporter": "python",
   "pygments_lexer": "ipython3",
   "version": "3.7.4"
  }
 },
 "nbformat": 4,
 "nbformat_minor": 2
}
