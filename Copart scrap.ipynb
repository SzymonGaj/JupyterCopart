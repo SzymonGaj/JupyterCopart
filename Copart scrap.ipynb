{
 "cells": [
  {
   "cell_type": "markdown",
   "metadata": {},
   "source": [
    "Importing libraries"
   ]
  },
  {
   "cell_type": "code",
   "execution_count": 1,
   "metadata": {},
   "outputs": [],
   "source": [
    "#import ssl\n",
    "#ssl._create_default_https_context = ssl._create_unverified_context"
   ]
  },
  {
   "cell_type": "code",
   "execution_count": 2,
   "metadata": {},
   "outputs": [],
   "source": [
    "import requests\n",
    "import bs4\n",
    "import pandas as pd"
   ]
  },
  {
   "cell_type": "markdown",
   "metadata": {},
   "source": [
    "Get the HMTL text from the homepage."
   ]
  },
  {
   "cell_type": "code",
   "execution_count": 3,
   "metadata": {},
   "outputs": [],
   "source": [
    "page_number = 4969540"
   ]
  },
  {
   "cell_type": "code",
   "execution_count": 4,
   "metadata": {},
   "outputs": [],
   "source": [
    "url = \"https://bids-history.com/lot/\" + str(page_number) + \"/\""
   ]
  },
  {
   "cell_type": "code",
   "execution_count": 5,
   "metadata": {},
   "outputs": [
    {
     "name": "stderr",
     "output_type": "stream",
     "text": [
      "C:\\Users\\szyme\\Anaconda3\\lib\\site-packages\\urllib3\\connectionpool.py:847: InsecureRequestWarning: Unverified HTTPS request is being made. Adding certificate verification is strongly advised. See: https://urllib3.readthedocs.io/en/latest/advanced-usage.html#ssl-warnings\n",
      "  InsecureRequestWarning)\n"
     ]
    }
   ],
   "source": [
    "res = requests.get(url,verify = False)"
   ]
  },
  {
   "cell_type": "markdown",
   "metadata": {},
   "source": [
    "Geting some text"
   ]
  },
  {
   "cell_type": "code",
   "execution_count": 6,
   "metadata": {},
   "outputs": [],
   "source": [
    "soup = bs4.BeautifulSoup(res.text,'lxml')"
   ]
  },
  {
   "cell_type": "code",
   "execution_count": 7,
   "metadata": {},
   "outputs": [
    {
     "data": {
      "text/plain": [
       "bs4.BeautifulSoup"
      ]
     },
     "execution_count": 7,
     "metadata": {},
     "output_type": "execute_result"
    }
   ],
   "source": [
    "type(soup)"
   ]
  },
  {
   "cell_type": "markdown",
   "metadata": {},
   "source": [
    "Analizing extracted text"
   ]
  },
  {
   "cell_type": "code",
   "execution_count": 8,
   "metadata": {},
   "outputs": [],
   "source": [
    "#soup"
   ]
  },
  {
   "cell_type": "raw",
   "metadata": {},
   "source": [
    "Final_bid and Currency"
   ]
  },
  {
   "cell_type": "markdown",
   "metadata": {},
   "source": [
    "Creating 2 list with lot information and car features"
   ]
  },
  {
   "cell_type": "code",
   "execution_count": 9,
   "metadata": {
    "scrolled": true
   },
   "outputs": [],
   "source": [
    "items = 0 \n",
    "Lot_info_key = []\n",
    "Lot_info_val = []\n",
    "for item in soup.select(\".col-6\"):\n",
    "    item = item.text\n",
    "    item = item.replace(\"\\n\", \"\") # Formating word\n",
    "    if items % 2 == 0:\n",
    "        Lot_info_key.append(item)\n",
    "        items += 1\n",
    "    else:\n",
    "        Lot_info_val.append(item)\n",
    "        items += 1"
   ]
  },
  {
   "cell_type": "markdown",
   "metadata": {},
   "source": [
    "Converting prevuiously created list to dictionary"
   ]
  },
  {
   "cell_type": "code",
   "execution_count": 10,
   "metadata": {},
   "outputs": [],
   "source": [
    "dictionary = dict(zip(Lot_info_key, Lot_info_val))"
   ]
  },
  {
   "cell_type": "code",
   "execution_count": 11,
   "metadata": {},
   "outputs": [
    {
     "data": {
      "text/plain": [
       "{'Final bid:': '$575 USD',\n",
       " 'Doc Type:': 'TX - SALVAGE VEHICLE TITLE',\n",
       " 'Odometer:': '145,227 mi',\n",
       " 'Highlights:': 'Engine Start Program',\n",
       " 'Primary Damage:': 'FRONT END',\n",
       " 'Secondary Damage:': 'REAR END',\n",
       " 'Estimated Repair Cost:': '$9,828 USD',\n",
       " 'Estimated Retail Value:': '$4,303 USD',\n",
       " 'VIN:': '1HGCM66585A******',\n",
       " 'Auction Date:': 'Sept. 1, 2020, 10 a.m.',\n",
       " 'Body Style:': 'SEDAN 4D',\n",
       " 'Engine Type:': '3.0L 6',\n",
       " 'Cylinders:': '6',\n",
       " 'Transmission:': 'AUTOMATIC',\n",
       " 'Drive:': 'Front-wheel Drive',\n",
       " 'Fuel:': 'GAS'}"
      ]
     },
     "execution_count": 11,
     "metadata": {},
     "output_type": "execute_result"
    }
   ],
   "source": [
    "dictionary"
   ]
  },
  {
   "cell_type": "markdown",
   "metadata": {},
   "source": [
    "Information about money amounts require additional formatting to be used later in regresion. Function to convert those amounts to correct format:"
   ]
  },
  {
   "cell_type": "code",
   "execution_count": 12,
   "metadata": {},
   "outputs": [],
   "source": [
    "def test(i):\n",
    "    page_number = 4969538\n",
    "    stop = 4969538 + i\n",
    "    lista = []\n",
    "    while page_number < stop:\n",
    "        url = \"https://bids-history.com/lot/\" + str(page_number) + \"/\"\n",
    "        res = requests.get(url,verify = False)\n",
    "        soup = bs4.BeautifulSoup(res.text,'lxml')\n",
    "        items = 0 \n",
    "        Lot_info_key = []\n",
    "        Lot_info_val = []\n",
    "        for item in soup.select(\".col-6\"):\n",
    "            item = item.text\n",
    "            item = item.replace(\"\\n\", \"\") # Formating word\n",
    "            if items % 2 == 0:\n",
    "                Lot_info_key.append(item)\n",
    "                items += 1\n",
    "            else:\n",
    "                Lot_info_val.append(item)\n",
    "                items += 1\n",
    "        dictionary = dict(zip(Lot_info_key, Lot_info_val))\n",
    "        dictionary['page'] = url\n",
    "        page_number = page_number + 1 \n",
    "        lista.append(dictionary)\n",
    "    \n",
    "    \n",
    "    return pd.DataFrame.from_dict(lista,orient='columns')\n",
    "\n",
    "    "
   ]
  },
  {
   "cell_type": "code",
   "execution_count": 13,
   "metadata": {},
   "outputs": [
    {
     "name": "stderr",
     "output_type": "stream",
     "text": [
      "C:\\Users\\szyme\\Anaconda3\\lib\\site-packages\\urllib3\\connectionpool.py:847: InsecureRequestWarning: Unverified HTTPS request is being made. Adding certificate verification is strongly advised. See: https://urllib3.readthedocs.io/en/latest/advanced-usage.html#ssl-warnings\n",
      "  InsecureRequestWarning)\n",
      "C:\\Users\\szyme\\Anaconda3\\lib\\site-packages\\urllib3\\connectionpool.py:847: InsecureRequestWarning: Unverified HTTPS request is being made. Adding certificate verification is strongly advised. See: https://urllib3.readthedocs.io/en/latest/advanced-usage.html#ssl-warnings\n",
      "  InsecureRequestWarning)\n",
      "C:\\Users\\szyme\\Anaconda3\\lib\\site-packages\\urllib3\\connectionpool.py:847: InsecureRequestWarning: Unverified HTTPS request is being made. Adding certificate verification is strongly advised. See: https://urllib3.readthedocs.io/en/latest/advanced-usage.html#ssl-warnings\n",
      "  InsecureRequestWarning)\n",
      "C:\\Users\\szyme\\Anaconda3\\lib\\site-packages\\urllib3\\connectionpool.py:847: InsecureRequestWarning: Unverified HTTPS request is being made. Adding certificate verification is strongly advised. See: https://urllib3.readthedocs.io/en/latest/advanced-usage.html#ssl-warnings\n",
      "  InsecureRequestWarning)\n",
      "C:\\Users\\szyme\\Anaconda3\\lib\\site-packages\\urllib3\\connectionpool.py:847: InsecureRequestWarning: Unverified HTTPS request is being made. Adding certificate verification is strongly advised. See: https://urllib3.readthedocs.io/en/latest/advanced-usage.html#ssl-warnings\n",
      "  InsecureRequestWarning)\n",
      "C:\\Users\\szyme\\Anaconda3\\lib\\site-packages\\urllib3\\connectionpool.py:847: InsecureRequestWarning: Unverified HTTPS request is being made. Adding certificate verification is strongly advised. See: https://urllib3.readthedocs.io/en/latest/advanced-usage.html#ssl-warnings\n",
      "  InsecureRequestWarning)\n",
      "C:\\Users\\szyme\\Anaconda3\\lib\\site-packages\\urllib3\\connectionpool.py:847: InsecureRequestWarning: Unverified HTTPS request is being made. Adding certificate verification is strongly advised. See: https://urllib3.readthedocs.io/en/latest/advanced-usage.html#ssl-warnings\n",
      "  InsecureRequestWarning)\n",
      "C:\\Users\\szyme\\Anaconda3\\lib\\site-packages\\urllib3\\connectionpool.py:847: InsecureRequestWarning: Unverified HTTPS request is being made. Adding certificate verification is strongly advised. See: https://urllib3.readthedocs.io/en/latest/advanced-usage.html#ssl-warnings\n",
      "  InsecureRequestWarning)\n",
      "C:\\Users\\szyme\\Anaconda3\\lib\\site-packages\\urllib3\\connectionpool.py:847: InsecureRequestWarning: Unverified HTTPS request is being made. Adding certificate verification is strongly advised. See: https://urllib3.readthedocs.io/en/latest/advanced-usage.html#ssl-warnings\n",
      "  InsecureRequestWarning)\n",
      "C:\\Users\\szyme\\Anaconda3\\lib\\site-packages\\urllib3\\connectionpool.py:847: InsecureRequestWarning: Unverified HTTPS request is being made. Adding certificate verification is strongly advised. See: https://urllib3.readthedocs.io/en/latest/advanced-usage.html#ssl-warnings\n",
      "  InsecureRequestWarning)\n"
     ]
    },
    {
     "data": {
      "text/html": [
       "<div>\n",
       "<style scoped>\n",
       "    .dataframe tbody tr th:only-of-type {\n",
       "        vertical-align: middle;\n",
       "    }\n",
       "\n",
       "    .dataframe tbody tr th {\n",
       "        vertical-align: top;\n",
       "    }\n",
       "\n",
       "    .dataframe thead th {\n",
       "        text-align: right;\n",
       "    }\n",
       "</style>\n",
       "<table border=\"1\" class=\"dataframe\">\n",
       "  <thead>\n",
       "    <tr style=\"text-align: right;\">\n",
       "      <th></th>\n",
       "      <th>Final bid:</th>\n",
       "      <th>Doc Type:</th>\n",
       "      <th>Odometer:</th>\n",
       "      <th>Highlights:</th>\n",
       "      <th>Primary Damage:</th>\n",
       "      <th>Secondary Damage:</th>\n",
       "      <th>Estimated Repair Cost:</th>\n",
       "      <th>Estimated Retail Value:</th>\n",
       "      <th>VIN:</th>\n",
       "      <th>Auction Date:</th>\n",
       "      <th>Body Style:</th>\n",
       "      <th>Engine Type:</th>\n",
       "      <th>Cylinders:</th>\n",
       "      <th>Transmission:</th>\n",
       "      <th>Drive:</th>\n",
       "      <th>Fuel:</th>\n",
       "      <th>page</th>\n",
       "    </tr>\n",
       "  </thead>\n",
       "  <tbody>\n",
       "    <tr>\n",
       "      <td>0</td>\n",
       "      <td>$2,450 USD</td>\n",
       "      <td>TX - SALVAGE VEHICLE TITLE</td>\n",
       "      <td>65,802 mi</td>\n",
       "      <td>Runs And Drives</td>\n",
       "      <td>FRONT END</td>\n",
       "      <td>REAR END</td>\n",
       "      <td>$12,305 USD</td>\n",
       "      <td>$11,587 USD</td>\n",
       "      <td>5NPE34AFXGH******</td>\n",
       "      <td>Sept. 1, 2020, 10 a.m.</td>\n",
       "      <td>SEDAN 4D</td>\n",
       "      <td>2.4L 4</td>\n",
       "      <td>4</td>\n",
       "      <td>AUTOMATIC</td>\n",
       "      <td>Front-wheel Drive</td>\n",
       "      <td>GAS</td>\n",
       "      <td>https://bids-history.com/lot/4969538/</td>\n",
       "    </tr>\n",
       "    <tr>\n",
       "      <td>1</td>\n",
       "      <td>$275 USD</td>\n",
       "      <td>MN - PARTS VEHICLE BILL OF SALE</td>\n",
       "      <td>169,335 mi</td>\n",
       "      <td>Runs And Drives</td>\n",
       "      <td>FRONT END</td>\n",
       "      <td>REAR END</td>\n",
       "      <td>$0 USD</td>\n",
       "      <td>$3,945 USD</td>\n",
       "      <td>1HGES16533L******</td>\n",
       "      <td>Sept. 1, 2020, 10 a.m.</td>\n",
       "      <td>SEDAN 4D</td>\n",
       "      <td>1.7L 4</td>\n",
       "      <td>4</td>\n",
       "      <td>AUTOMATIC</td>\n",
       "      <td>Front-wheel Drive</td>\n",
       "      <td>GAS</td>\n",
       "      <td>https://bids-history.com/lot/4969539/</td>\n",
       "    </tr>\n",
       "    <tr>\n",
       "      <td>2</td>\n",
       "      <td>$575 USD</td>\n",
       "      <td>TX - SALVAGE VEHICLE TITLE</td>\n",
       "      <td>145,227 mi</td>\n",
       "      <td>Engine Start Program</td>\n",
       "      <td>FRONT END</td>\n",
       "      <td>REAR END</td>\n",
       "      <td>$9,828 USD</td>\n",
       "      <td>$4,303 USD</td>\n",
       "      <td>1HGCM66585A******</td>\n",
       "      <td>Sept. 1, 2020, 10 a.m.</td>\n",
       "      <td>SEDAN 4D</td>\n",
       "      <td>3.0L 6</td>\n",
       "      <td>6</td>\n",
       "      <td>AUTOMATIC</td>\n",
       "      <td>Front-wheel Drive</td>\n",
       "      <td>GAS</td>\n",
       "      <td>https://bids-history.com/lot/4969540/</td>\n",
       "    </tr>\n",
       "    <tr>\n",
       "      <td>3</td>\n",
       "      <td>$3,750 USD</td>\n",
       "      <td>TX - SALVAGE VEHICLE TITLE</td>\n",
       "      <td>157,087 mi</td>\n",
       "      <td>Runs And Drives</td>\n",
       "      <td>SIDE</td>\n",
       "      <td>TOP/ROOF</td>\n",
       "      <td>$26,095 USD</td>\n",
       "      <td>$11,800 USD</td>\n",
       "      <td>5TFEV54119X******</td>\n",
       "      <td>Sept. 1, 2020, 10 a.m.</td>\n",
       "      <td>CREW PIC</td>\n",
       "      <td>5.7L 8</td>\n",
       "      <td>8</td>\n",
       "      <td>AUTOMATIC</td>\n",
       "      <td>Rear-wheel drive</td>\n",
       "      <td>GAS</td>\n",
       "      <td>https://bids-history.com/lot/4969541/</td>\n",
       "    </tr>\n",
       "    <tr>\n",
       "      <td>4</td>\n",
       "      <td>$1,950 USD</td>\n",
       "      <td>MN - CERTIFICATE OF TITLE</td>\n",
       "      <td>190,704 mi</td>\n",
       "      <td>Runs And Drives</td>\n",
       "      <td>FRONT END</td>\n",
       "      <td>MINOR DENT/SCRATCHES</td>\n",
       "      <td>$0 USD</td>\n",
       "      <td>$4,454 USD</td>\n",
       "      <td>2CNALBEC6B6******</td>\n",
       "      <td>Sept. 1, 2020, 10 a.m.</td>\n",
       "      <td>4DR SPOR</td>\n",
       "      <td>2.4L 4</td>\n",
       "      <td>4</td>\n",
       "      <td>AUTOMATIC</td>\n",
       "      <td>Front-wheel Drive</td>\n",
       "      <td>GAS</td>\n",
       "      <td>https://bids-history.com/lot/4969542/</td>\n",
       "    </tr>\n",
       "    <tr>\n",
       "      <td>5</td>\n",
       "      <td>NaN</td>\n",
       "      <td>NaN</td>\n",
       "      <td>NaN</td>\n",
       "      <td>NaN</td>\n",
       "      <td>NaN</td>\n",
       "      <td>NaN</td>\n",
       "      <td>NaN</td>\n",
       "      <td>NaN</td>\n",
       "      <td>NaN</td>\n",
       "      <td>NaN</td>\n",
       "      <td>NaN</td>\n",
       "      <td>NaN</td>\n",
       "      <td>NaN</td>\n",
       "      <td>NaN</td>\n",
       "      <td>NaN</td>\n",
       "      <td>NaN</td>\n",
       "      <td>https://bids-history.com/lot/4969543/</td>\n",
       "    </tr>\n",
       "    <tr>\n",
       "      <td>6</td>\n",
       "      <td>NaN</td>\n",
       "      <td>NaN</td>\n",
       "      <td>NaN</td>\n",
       "      <td>NaN</td>\n",
       "      <td>NaN</td>\n",
       "      <td>NaN</td>\n",
       "      <td>NaN</td>\n",
       "      <td>NaN</td>\n",
       "      <td>NaN</td>\n",
       "      <td>NaN</td>\n",
       "      <td>NaN</td>\n",
       "      <td>NaN</td>\n",
       "      <td>NaN</td>\n",
       "      <td>NaN</td>\n",
       "      <td>NaN</td>\n",
       "      <td>NaN</td>\n",
       "      <td>https://bids-history.com/lot/4969544/</td>\n",
       "    </tr>\n",
       "    <tr>\n",
       "      <td>7</td>\n",
       "      <td>NaN</td>\n",
       "      <td>NaN</td>\n",
       "      <td>NaN</td>\n",
       "      <td>NaN</td>\n",
       "      <td>NaN</td>\n",
       "      <td>NaN</td>\n",
       "      <td>NaN</td>\n",
       "      <td>NaN</td>\n",
       "      <td>NaN</td>\n",
       "      <td>NaN</td>\n",
       "      <td>NaN</td>\n",
       "      <td>NaN</td>\n",
       "      <td>NaN</td>\n",
       "      <td>NaN</td>\n",
       "      <td>NaN</td>\n",
       "      <td>NaN</td>\n",
       "      <td>https://bids-history.com/lot/4969545/</td>\n",
       "    </tr>\n",
       "    <tr>\n",
       "      <td>8</td>\n",
       "      <td>NaN</td>\n",
       "      <td>NaN</td>\n",
       "      <td>NaN</td>\n",
       "      <td>NaN</td>\n",
       "      <td>NaN</td>\n",
       "      <td>NaN</td>\n",
       "      <td>NaN</td>\n",
       "      <td>NaN</td>\n",
       "      <td>NaN</td>\n",
       "      <td>NaN</td>\n",
       "      <td>NaN</td>\n",
       "      <td>NaN</td>\n",
       "      <td>NaN</td>\n",
       "      <td>NaN</td>\n",
       "      <td>NaN</td>\n",
       "      <td>NaN</td>\n",
       "      <td>https://bids-history.com/lot/4969546/</td>\n",
       "    </tr>\n",
       "    <tr>\n",
       "      <td>9</td>\n",
       "      <td>NaN</td>\n",
       "      <td>NaN</td>\n",
       "      <td>NaN</td>\n",
       "      <td>NaN</td>\n",
       "      <td>NaN</td>\n",
       "      <td>NaN</td>\n",
       "      <td>NaN</td>\n",
       "      <td>NaN</td>\n",
       "      <td>NaN</td>\n",
       "      <td>NaN</td>\n",
       "      <td>NaN</td>\n",
       "      <td>NaN</td>\n",
       "      <td>NaN</td>\n",
       "      <td>NaN</td>\n",
       "      <td>NaN</td>\n",
       "      <td>NaN</td>\n",
       "      <td>https://bids-history.com/lot/4969547/</td>\n",
       "    </tr>\n",
       "  </tbody>\n",
       "</table>\n",
       "</div>"
      ],
      "text/plain": [
       "   Final bid:                        Doc Type:   Odometer:  \\\n",
       "0  $2,450 USD       TX - SALVAGE VEHICLE TITLE   65,802 mi   \n",
       "1    $275 USD  MN - PARTS VEHICLE BILL OF SALE  169,335 mi   \n",
       "2    $575 USD       TX - SALVAGE VEHICLE TITLE  145,227 mi   \n",
       "3  $3,750 USD       TX - SALVAGE VEHICLE TITLE  157,087 mi   \n",
       "4  $1,950 USD        MN - CERTIFICATE OF TITLE  190,704 mi   \n",
       "5         NaN                              NaN         NaN   \n",
       "6         NaN                              NaN         NaN   \n",
       "7         NaN                              NaN         NaN   \n",
       "8         NaN                              NaN         NaN   \n",
       "9         NaN                              NaN         NaN   \n",
       "\n",
       "            Highlights: Primary Damage:     Secondary Damage:  \\\n",
       "0       Runs And Drives       FRONT END              REAR END   \n",
       "1       Runs And Drives       FRONT END              REAR END   \n",
       "2  Engine Start Program       FRONT END              REAR END   \n",
       "3       Runs And Drives            SIDE              TOP/ROOF   \n",
       "4       Runs And Drives       FRONT END  MINOR DENT/SCRATCHES   \n",
       "5                   NaN             NaN                   NaN   \n",
       "6                   NaN             NaN                   NaN   \n",
       "7                   NaN             NaN                   NaN   \n",
       "8                   NaN             NaN                   NaN   \n",
       "9                   NaN             NaN                   NaN   \n",
       "\n",
       "  Estimated Repair Cost: Estimated Retail Value:               VIN:  \\\n",
       "0            $12,305 USD             $11,587 USD  5NPE34AFXGH******   \n",
       "1                 $0 USD              $3,945 USD  1HGES16533L******   \n",
       "2             $9,828 USD              $4,303 USD  1HGCM66585A******   \n",
       "3            $26,095 USD             $11,800 USD  5TFEV54119X******   \n",
       "4                 $0 USD              $4,454 USD  2CNALBEC6B6******   \n",
       "5                    NaN                     NaN                NaN   \n",
       "6                    NaN                     NaN                NaN   \n",
       "7                    NaN                     NaN                NaN   \n",
       "8                    NaN                     NaN                NaN   \n",
       "9                    NaN                     NaN                NaN   \n",
       "\n",
       "            Auction Date: Body Style: Engine Type: Cylinders: Transmission:  \\\n",
       "0  Sept. 1, 2020, 10 a.m.    SEDAN 4D       2.4L 4          4     AUTOMATIC   \n",
       "1  Sept. 1, 2020, 10 a.m.    SEDAN 4D       1.7L 4          4     AUTOMATIC   \n",
       "2  Sept. 1, 2020, 10 a.m.    SEDAN 4D       3.0L 6          6     AUTOMATIC   \n",
       "3  Sept. 1, 2020, 10 a.m.    CREW PIC       5.7L 8          8     AUTOMATIC   \n",
       "4  Sept. 1, 2020, 10 a.m.    4DR SPOR       2.4L 4          4     AUTOMATIC   \n",
       "5                     NaN         NaN          NaN        NaN           NaN   \n",
       "6                     NaN         NaN          NaN        NaN           NaN   \n",
       "7                     NaN         NaN          NaN        NaN           NaN   \n",
       "8                     NaN         NaN          NaN        NaN           NaN   \n",
       "9                     NaN         NaN          NaN        NaN           NaN   \n",
       "\n",
       "              Drive: Fuel:                                   page  \n",
       "0  Front-wheel Drive   GAS  https://bids-history.com/lot/4969538/  \n",
       "1  Front-wheel Drive   GAS  https://bids-history.com/lot/4969539/  \n",
       "2  Front-wheel Drive   GAS  https://bids-history.com/lot/4969540/  \n",
       "3   Rear-wheel drive   GAS  https://bids-history.com/lot/4969541/  \n",
       "4  Front-wheel Drive   GAS  https://bids-history.com/lot/4969542/  \n",
       "5                NaN   NaN  https://bids-history.com/lot/4969543/  \n",
       "6                NaN   NaN  https://bids-history.com/lot/4969544/  \n",
       "7                NaN   NaN  https://bids-history.com/lot/4969545/  \n",
       "8                NaN   NaN  https://bids-history.com/lot/4969546/  \n",
       "9                NaN   NaN  https://bids-history.com/lot/4969547/  "
      ]
     },
     "execution_count": 13,
     "metadata": {},
     "output_type": "execute_result"
    }
   ],
   "source": [
    "test(10)"
   ]
  },
  {
   "cell_type": "code",
   "execution_count": 14,
   "metadata": {},
   "outputs": [],
   "source": [
    "def convert_to_num(key):\n",
    "    amount_and_currency = dictionary[key].split(\" \")\n",
    "    amount_and_currency[0] = amount_and_currency[0][1:].replace(\",\", \"\") # Formating price\n",
    "    amount_and_currency[0] = int(amount_and_currency[0])\n",
    "    amount_and_currency\n",
    "    dictionary[key] = amount_and_currency[0]\n",
    "    if 'Currency' in dictionary:\n",
    "        pass\n",
    "    else:\n",
    "        dictionary['Currency'] = amount_and_currency[1]\n",
    "convert_to_num('Final bid:')\n",
    "convert_to_num('Estimated Repair Cost:')\n",
    "convert_to_num('Estimated Retail Value:')"
   ]
  },
  {
   "cell_type": "markdown",
   "metadata": {},
   "source": [
    "Odometer number conversion to KM"
   ]
  },
  {
   "cell_type": "code",
   "execution_count": 15,
   "metadata": {},
   "outputs": [],
   "source": [
    "Odometer = dictionary['Odometer:'].split(\" \")\n",
    "Odometer[0] = Odometer[0][1:].replace(\",\", \"\") # Formating amount\n",
    "Odometer[0] = int(Odometer[0]) * 1.60934 # miles to KM\n",
    "dictionary['Odometer in KM:'] = int(Odometer[0]) # odometer in KM\n",
    "del dictionary['Odometer:']"
   ]
  },
  {
   "cell_type": "markdown",
   "metadata": {},
   "source": [
    "Converting non-standard timestamp auction date to date object"
   ]
  },
  {
   "cell_type": "code",
   "execution_count": 16,
   "metadata": {},
   "outputs": [
    {
     "name": "stdout",
     "output_type": "stream",
     "text": [
      "Sep 1 2020 10 am\n"
     ]
    }
   ],
   "source": [
    "import datetime\n",
    "date_time_str = dictionary['Auction Date:']\n",
    "if date_time_str[3] != '.':\n",
    "    date_time_str = date_time_str.replace(date_time_str[3], \"\")\n",
    "date_time_str = date_time_str.replace(',','')\n",
    "date_time_str = date_time_str.replace('.','')\n",
    "print(date_time_str)\n",
    "date_time_obj = datetime.datetime.strptime(date_time_str.upper(), '%b %w %Y %H %p')\n",
    "dictionary['Auction Date:'] = date_time_obj.date()"
   ]
  },
  {
   "cell_type": "markdown",
   "metadata": {},
   "source": [
    "Converting Engine Type to engie size float number"
   ]
  },
  {
   "cell_type": "code",
   "execution_count": 17,
   "metadata": {},
   "outputs": [],
   "source": [
    "#dictionary['Engine Type:'].find('L')\n",
    "dictionary['Engine Type:'] = float(dictionary['Engine Type:'][0:3])"
   ]
  },
  {
   "cell_type": "markdown",
   "metadata": {},
   "source": [
    "Changing cilinders form str to int"
   ]
  },
  {
   "cell_type": "code",
   "execution_count": 18,
   "metadata": {},
   "outputs": [],
   "source": [
    "dictionary['Cylinders:'] = int(dictionary['Cylinders:'])"
   ]
  },
  {
   "cell_type": "markdown",
   "metadata": {},
   "source": [
    "Adding lot number"
   ]
  },
  {
   "cell_type": "code",
   "execution_count": 19,
   "metadata": {},
   "outputs": [],
   "source": [
    "dictionary['Lot number:'] = int(soup.select(\"td a\")[1].text)"
   ]
  },
  {
   "cell_type": "markdown",
   "metadata": {},
   "source": [
    "Adding web adress"
   ]
  },
  {
   "cell_type": "code",
   "execution_count": 20,
   "metadata": {},
   "outputs": [],
   "source": [
    "dictionary['Web adress'] = str(url)"
   ]
  },
  {
   "cell_type": "markdown",
   "metadata": {},
   "source": [
    "Adding Car year"
   ]
  },
  {
   "cell_type": "code",
   "execution_count": 21,
   "metadata": {},
   "outputs": [],
   "source": [
    "dictionary['Production year'] = soup.select(\"ol li\")[-1].text[0:4]"
   ]
  },
  {
   "cell_type": "markdown",
   "metadata": {},
   "source": [
    "Car Model"
   ]
  },
  {
   "cell_type": "code",
   "execution_count": 22,
   "metadata": {},
   "outputs": [],
   "source": [
    "dictionary['Car Model'] = soup.select(\"ol li\")[-1].text[5:]"
   ]
  },
  {
   "cell_type": "markdown",
   "metadata": {},
   "source": [
    "Separating Location from Doc type"
   ]
  },
  {
   "cell_type": "code",
   "execution_count": 23,
   "metadata": {},
   "outputs": [],
   "source": [
    "dictionary['Location'] = dictionary['Doc Type:'][0:2]\n",
    "dictionary['Doc Type:'] =  dictionary['Doc Type:'][5:] "
   ]
  },
  {
   "cell_type": "markdown",
   "metadata": {},
   "source": [
    "Creating data frame"
   ]
  },
  {
   "cell_type": "code",
   "execution_count": 24,
   "metadata": {
    "scrolled": true
   },
   "outputs": [],
   "source": [
    "df = pd.DataFrame([dictionary],columns=['Lot number:','Car Model', 'Doc Type:','Production year',\n",
    "'Odometer in KM:', 'Final bid:', 'Estimated Repair Cost:', 'Estimated Retail Value:','Highlights:'\n",
    ", 'Primary Damage:', 'Secondary Damage:','Body Style:', 'Engine Type:','Cylinders:', 'Transmission:'\n",
    ", 'Drive:', 'Fuel:','VIN:', 'Auction Date:', 'Currency', 'Location', 'Web adress'\n",
    "])\n",
    "df.set_index('Lot number:',inplace=True)"
   ]
  },
  {
   "cell_type": "code",
   "execution_count": 25,
   "metadata": {},
   "outputs": [
    {
     "data": {
      "text/html": [
       "<div>\n",
       "<style scoped>\n",
       "    .dataframe tbody tr th:only-of-type {\n",
       "        vertical-align: middle;\n",
       "    }\n",
       "\n",
       "    .dataframe tbody tr th {\n",
       "        vertical-align: top;\n",
       "    }\n",
       "\n",
       "    .dataframe thead th {\n",
       "        text-align: right;\n",
       "    }\n",
       "</style>\n",
       "<table border=\"1\" class=\"dataframe\">\n",
       "  <thead>\n",
       "    <tr style=\"text-align: right;\">\n",
       "      <th></th>\n",
       "      <th>Car Model</th>\n",
       "      <th>Doc Type:</th>\n",
       "      <th>Production year</th>\n",
       "      <th>Odometer in KM:</th>\n",
       "      <th>Final bid:</th>\n",
       "      <th>Estimated Repair Cost:</th>\n",
       "      <th>Estimated Retail Value:</th>\n",
       "      <th>Highlights:</th>\n",
       "      <th>Primary Damage:</th>\n",
       "      <th>Secondary Damage:</th>\n",
       "      <th>...</th>\n",
       "      <th>Engine Type:</th>\n",
       "      <th>Cylinders:</th>\n",
       "      <th>Transmission:</th>\n",
       "      <th>Drive:</th>\n",
       "      <th>Fuel:</th>\n",
       "      <th>VIN:</th>\n",
       "      <th>Auction Date:</th>\n",
       "      <th>Currency</th>\n",
       "      <th>Location</th>\n",
       "      <th>Web adress</th>\n",
       "    </tr>\n",
       "    <tr>\n",
       "      <th>Lot number:</th>\n",
       "      <th></th>\n",
       "      <th></th>\n",
       "      <th></th>\n",
       "      <th></th>\n",
       "      <th></th>\n",
       "      <th></th>\n",
       "      <th></th>\n",
       "      <th></th>\n",
       "      <th></th>\n",
       "      <th></th>\n",
       "      <th></th>\n",
       "      <th></th>\n",
       "      <th></th>\n",
       "      <th></th>\n",
       "      <th></th>\n",
       "      <th></th>\n",
       "      <th></th>\n",
       "      <th></th>\n",
       "      <th></th>\n",
       "      <th></th>\n",
       "      <th></th>\n",
       "    </tr>\n",
       "  </thead>\n",
       "  <tbody>\n",
       "    <tr>\n",
       "      <td>38868300</td>\n",
       "      <td>HONDA ACCORD EX</td>\n",
       "      <td>SALVAGE VEHICLE TITLE</td>\n",
       "      <td>2005</td>\n",
       "      <td>72785</td>\n",
       "      <td>575</td>\n",
       "      <td>9828</td>\n",
       "      <td>4303</td>\n",
       "      <td>Engine Start Program</td>\n",
       "      <td>FRONT END</td>\n",
       "      <td>REAR END</td>\n",
       "      <td>...</td>\n",
       "      <td>3.0</td>\n",
       "      <td>6</td>\n",
       "      <td>AUTOMATIC</td>\n",
       "      <td>Front-wheel Drive</td>\n",
       "      <td>GAS</td>\n",
       "      <td>1HGCM66585A******</td>\n",
       "      <td>2020-09-01</td>\n",
       "      <td>USD</td>\n",
       "      <td>TX</td>\n",
       "      <td>https://bids-history.com/lot/4969540/</td>\n",
       "    </tr>\n",
       "  </tbody>\n",
       "</table>\n",
       "<p>1 rows × 21 columns</p>\n",
       "</div>"
      ],
      "text/plain": [
       "                   Car Model              Doc Type: Production year  \\\n",
       "Lot number:                                                           \n",
       "38868300     HONDA ACCORD EX  SALVAGE VEHICLE TITLE            2005   \n",
       "\n",
       "             Odometer in KM:  Final bid:  Estimated Repair Cost:  \\\n",
       "Lot number:                                                        \n",
       "38868300               72785         575                    9828   \n",
       "\n",
       "             Estimated Retail Value:           Highlights: Primary Damage:  \\\n",
       "Lot number:                                                                  \n",
       "38868300                        4303  Engine Start Program       FRONT END   \n",
       "\n",
       "            Secondary Damage:  ... Engine Type:  Cylinders:  Transmission:  \\\n",
       "Lot number:                    ...                                           \n",
       "38868300             REAR END  ...          3.0           6      AUTOMATIC   \n",
       "\n",
       "                        Drive: Fuel:               VIN: Auction Date:  \\\n",
       "Lot number:                                                             \n",
       "38868300     Front-wheel Drive   GAS  1HGCM66585A******    2020-09-01   \n",
       "\n",
       "            Currency Location                             Web adress  \n",
       "Lot number:                                                           \n",
       "38868300         USD       TX  https://bids-history.com/lot/4969540/  \n",
       "\n",
       "[1 rows x 21 columns]"
      ]
     },
     "execution_count": 25,
     "metadata": {},
     "output_type": "execute_result"
    }
   ],
   "source": [
    "df"
   ]
  },
  {
   "cell_type": "code",
   "execution_count": null,
   "metadata": {},
   "outputs": [],
   "source": []
  }
 ],
 "metadata": {
  "kernelspec": {
   "display_name": "Python 3",
   "language": "python",
   "name": "python3"
  },
  "language_info": {
   "codemirror_mode": {
    "name": "ipython",
    "version": 3
   },
   "file_extension": ".py",
   "mimetype": "text/x-python",
   "name": "python",
   "nbconvert_exporter": "python",
   "pygments_lexer": "ipython3",
   "version": "3.7.4"
  }
 },
 "nbformat": 4,
 "nbformat_minor": 2
}
